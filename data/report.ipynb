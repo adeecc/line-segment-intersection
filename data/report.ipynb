{
 "cells": [
  {
   "cell_type": "markdown",
   "metadata": {},
   "source": [
    "# Implementation of Bentley-Ottman Algortihm for Line Segment Intersections\n",
    "\n",
    "A Report for CS F364: Design and Analysis of Algorithm\n",
    "\n",
    "Authors\n",
    "\n",
    "- Aditya Chopra | 2019A7PS0178H\n",
    "- Omkar Pitale | 2019A7PS0083H\n",
    "- Vedansh Srivastava | 2019A7PS0323H\n"
   ]
  },
  {
   "cell_type": "markdown",
   "metadata": {},
   "source": [
    "## Implementation\n",
    "\n",
    "Please find the details as attached in the doxygen documentation."
   ]
  },
  {
   "cell_type": "markdown",
   "metadata": {},
   "source": [
    "## Testing\n",
    "\n",
    "We tested our code with several different test case generation strategies, and with several different sizes for number of intersections and the number of segments. The results for the same has been displayed below. \n",
    "\n",
    "Tests Generated:\n",
    "1. Simple Grid\n",
    "2. Sparse Intersections\n",
    "3. Parallel Slanted\n",
    "4. Drunk Grid\n",
    "5. Random\n",
    "6. Edge Cases and Degeneracies"
   ]
  },
  {
   "cell_type": "markdown",
   "metadata": {},
   "source": [
    "### Simple Grid\n",
    "\n",
    "![simple-grid](plots/grid-15-20.png)"
   ]
  },
  {
   "cell_type": "markdown",
   "metadata": {},
   "source": [
    "### Sparse intersections\n",
    "\n",
    "![sparse](plots/sparse-64.png)"
   ]
  },
  {
   "cell_type": "markdown",
   "metadata": {},
   "source": [
    "### Parallel Slanted\n",
    "\n",
    "> Note: We don't want to report any intersections in this case\n",
    "\n",
    "|                  Zoomed Out                  |                         Zoomed In                          |\n",
    "| :------------------------------------------: | :--------------------------------------------------------: |\n",
    "| ![parallel](plots/slanted-10000.png) | ![parallel-zoomer](plots/slanted-10000-zoomed.png) |\n"
   ]
  },
  {
   "cell_type": "markdown",
   "metadata": {},
   "source": [
    "### Drunk Grid\n",
    "\n",
    "![drunk-grid](plots/drunk-grid-400.png)"
   ]
  },
  {
   "cell_type": "markdown",
   "metadata": {},
   "source": [
    "### Random\n",
    "\n",
    "![random](plots/random-8.png)"
   ]
  },
  {
   "cell_type": "markdown",
   "metadata": {},
   "source": [
    "### Degenerate Cases\n",
    "\n",
    "1. T-Shape: Endpoint of only one segment is the intersection point\n",
    "   Such intersections are not currently detected by our implementation\n",
    "\n",
    "2. Overlapping Line Segments:\n",
    "   If two line segments are placed on top of each other, separated by a small offset such that they still intersect, then such set of points can not be detected in our implementation\n",
    "\n",
    "3. Two almost horizontal lines intersecting\n",
    "   We detect such lines only upto a certain epsilon of difference ($10^{-9}$). After which, they are detected as two separate intersections. This eps parameter can be controlled within the algorithm.\n",
    "\n",
    "|             T-shape base              |           T-shape degenerate           |\n",
    "| :-----------------------------------: | :------------------------------------: |\n",
    "| ![base](plots/degen_base.png) | ![degen](plots/degen_cond.png) |\n",
    "\n",
    "| Almost horizontal but difference more than epsilon | Almost Horizontal Lines with difference less than epsilon |\n",
    "| :------------------------------------------------: | :-------------------------------------------------------: |\n",
    "|   ![parallel](plots/hori-intersect.png)    |     ![parallel-zoomer](plots/degen-hori.png)      |\n"
   ]
  },
  {
   "cell_type": "markdown",
   "metadata": {},
   "source": [
    "# Large Example\n",
    "\n",
    "|             1e6 intersections             |                     zoomed                      |\n",
    "| :---------------------------------------: | :---------------------------------------------: |\n",
    "| ![base](plots/grid-1000-1000.png) | ![degen](plots/grid-1000-1000-zoom.png) |\n"
   ]
  },
  {
   "cell_type": "markdown",
   "metadata": {},
   "source": [
    "## Benchmarking\n",
    "\n",
    "After verifying the correctness of our code we run benchamrking on the source, and analyse the running time using Google Benchmark Suite"
   ]
  },
  {
   "cell_type": "code",
   "execution_count": 40,
   "metadata": {},
   "outputs": [],
   "source": [
    "import numpy as np\n",
    "import pandas as pd\n",
    "import matplotlib.pyplot as plt\n",
    "import seaborn as sns\n",
    "\n",
    "sns.set_style('darkgrid')"
   ]
  },
  {
   "cell_type": "code",
   "execution_count": 58,
   "metadata": {},
   "outputs": [
    {
     "data": {
      "text/html": [
       "<div>\n",
       "<style scoped>\n",
       "    .dataframe tbody tr th:only-of-type {\n",
       "        vertical-align: middle;\n",
       "    }\n",
       "\n",
       "    .dataframe tbody tr th {\n",
       "        vertical-align: top;\n",
       "    }\n",
       "\n",
       "    .dataframe thead th {\n",
       "        text-align: right;\n",
       "    }\n",
       "</style>\n",
       "<table border=\"1\" class=\"dataframe\">\n",
       "  <thead>\n",
       "    <tr style=\"text-align: right;\">\n",
       "      <th></th>\n",
       "      <th>wall_time</th>\n",
       "      <th>cpu_time</th>\n",
       "      <th>num_iter</th>\n",
       "      <th>m</th>\n",
       "      <th>n</th>\n",
       "      <th>num_segments</th>\n",
       "      <th>num_intersections</th>\n",
       "      <th>kn_lg_n</th>\n",
       "    </tr>\n",
       "  </thead>\n",
       "  <tbody>\n",
       "    <tr>\n",
       "      <th>count</th>\n",
       "      <td>1.010000e+02</td>\n",
       "      <td>1.010000e+02</td>\n",
       "      <td>101.000000</td>\n",
       "      <td>101.000000</td>\n",
       "      <td>101.0</td>\n",
       "      <td>101.000000</td>\n",
       "      <td>1.010000e+02</td>\n",
       "      <td>1.010000e+02</td>\n",
       "    </tr>\n",
       "    <tr>\n",
       "      <th>mean</th>\n",
       "      <td>3.022762e+07</td>\n",
       "      <td>3.021814e+07</td>\n",
       "      <td>25.108911</td>\n",
       "      <td>15000.000000</td>\n",
       "      <td>100.0</td>\n",
       "      <td>15100.000000</td>\n",
       "      <td>1.500000e+06</td>\n",
       "      <td>1.460792e+07</td>\n",
       "    </tr>\n",
       "    <tr>\n",
       "      <th>std</th>\n",
       "      <td>8.287872e+06</td>\n",
       "      <td>8.275388e+06</td>\n",
       "      <td>7.484519</td>\n",
       "      <td>2930.017065</td>\n",
       "      <td>0.0</td>\n",
       "      <td>2930.017065</td>\n",
       "      <td>2.930017e+05</td>\n",
       "      <td>3.138251e+06</td>\n",
       "    </tr>\n",
       "    <tr>\n",
       "      <th>min</th>\n",
       "      <td>1.510940e+07</td>\n",
       "      <td>1.511000e+07</td>\n",
       "      <td>13.000000</td>\n",
       "      <td>10000.000000</td>\n",
       "      <td>100.0</td>\n",
       "      <td>10100.000000</td>\n",
       "      <td>1.000000e+06</td>\n",
       "      <td>9.313416e+06</td>\n",
       "    </tr>\n",
       "    <tr>\n",
       "      <th>25%</th>\n",
       "      <td>2.284460e+07</td>\n",
       "      <td>2.284362e+07</td>\n",
       "      <td>19.000000</td>\n",
       "      <td>12500.000000</td>\n",
       "      <td>100.0</td>\n",
       "      <td>12600.000000</td>\n",
       "      <td>1.250000e+06</td>\n",
       "      <td>1.192078e+07</td>\n",
       "    </tr>\n",
       "    <tr>\n",
       "      <th>50%</th>\n",
       "      <td>3.163660e+07</td>\n",
       "      <td>3.163558e+07</td>\n",
       "      <td>23.000000</td>\n",
       "      <td>15000.000000</td>\n",
       "      <td>100.0</td>\n",
       "      <td>15100.000000</td>\n",
       "      <td>1.500000e+06</td>\n",
       "      <td>1.457897e+07</td>\n",
       "    </tr>\n",
       "    <tr>\n",
       "      <th>75%</th>\n",
       "      <td>3.654884e+07</td>\n",
       "      <td>3.654543e+07</td>\n",
       "      <td>30.000000</td>\n",
       "      <td>17500.000000</td>\n",
       "      <td>100.0</td>\n",
       "      <td>17600.000000</td>\n",
       "      <td>1.750000e+06</td>\n",
       "      <td>1.727945e+07</td>\n",
       "    </tr>\n",
       "    <tr>\n",
       "      <th>max</th>\n",
       "      <td>4.759283e+07</td>\n",
       "      <td>4.758826e+07</td>\n",
       "      <td>60.000000</td>\n",
       "      <td>20000.000000</td>\n",
       "      <td>100.0</td>\n",
       "      <td>20100.000000</td>\n",
       "      <td>2.000000e+06</td>\n",
       "      <td>2.001611e+07</td>\n",
       "    </tr>\n",
       "  </tbody>\n",
       "</table>\n",
       "</div>"
      ],
      "text/plain": [
       "          wall_time      cpu_time    num_iter             m      n  \\\n",
       "count  1.010000e+02  1.010000e+02  101.000000    101.000000  101.0   \n",
       "mean   3.022762e+07  3.021814e+07   25.108911  15000.000000  100.0   \n",
       "std    8.287872e+06  8.275388e+06    7.484519   2930.017065    0.0   \n",
       "min    1.510940e+07  1.511000e+07   13.000000  10000.000000  100.0   \n",
       "25%    2.284460e+07  2.284362e+07   19.000000  12500.000000  100.0   \n",
       "50%    3.163660e+07  3.163558e+07   23.000000  15000.000000  100.0   \n",
       "75%    3.654884e+07  3.654543e+07   30.000000  17500.000000  100.0   \n",
       "max    4.759283e+07  4.758826e+07   60.000000  20000.000000  100.0   \n",
       "\n",
       "       num_segments  num_intersections       kn_lg_n  \n",
       "count    101.000000       1.010000e+02  1.010000e+02  \n",
       "mean   15100.000000       1.500000e+06  1.460792e+07  \n",
       "std     2930.017065       2.930017e+05  3.138251e+06  \n",
       "min    10100.000000       1.000000e+06  9.313416e+06  \n",
       "25%    12600.000000       1.250000e+06  1.192078e+07  \n",
       "50%    15100.000000       1.500000e+06  1.457897e+07  \n",
       "75%    17600.000000       1.750000e+06  1.727945e+07  \n",
       "max    20100.000000       2.000000e+06  2.001611e+07  "
      ]
     },
     "execution_count": 58,
     "metadata": {},
     "output_type": "execute_result"
    }
   ],
   "source": [
    "bm = pd.read_csv('bm_linear_grid.csv')\n",
    "bm[\"kn_lg_n\"] = (bm[\"num_intersections\"] + bm[\"num_segments\"]) * np.log(bm[\"num_segments\"])\n",
    "\n",
    "bm.describe()"
   ]
  },
  {
   "cell_type": "code",
   "execution_count": 59,
   "metadata": {},
   "outputs": [
    {
     "data": {
      "text/plain": [
       "<AxesSubplot:xlabel='kn_lg_n', ylabel='cpu_time'>"
      ]
     },
     "execution_count": 59,
     "metadata": {},
     "output_type": "execute_result"
    },
    {
     "data": {
      "image/png": "[encoded data removed]",
      "text/plain": [
       "<Figure size 1296x720 with 1 Axes>"
      ]
     },
     "metadata": {},
     "output_type": "display_data"
    }
   ],
   "source": [
    "plt.figure(figsize=(18, 10))\n",
    "sns.scatterplot(x=bm[\"kn_lg_n\"], y=bm[\"cpu_time\"])"
   ]
  },
  {
   "cell_type": "markdown",
   "metadata": {},
   "source": [
    "### Analysis\n",
    "We see a clear linear trend between the kn_lg_n term and the wall/cpu time term of the plot. The kn_lg_n term was computed as follows:\n",
    "\n",
    "$$\n",
    " (k + n) \\log n\n",
    "$$\n",
    "\n",
    "This empirically proves the relation:\n",
    "\n",
    "$$\n",
    "T(n, k) \\in O((k + n) \\log n)\n",
    "$$\n",
    "\n",
    "The same result was verified by the Google Benchmark tool as well."
   ]
  },
  {
   "cell_type": "markdown",
   "metadata": {},
   "source": [
    "## Profiling\n",
    "\n",
    "Now that we have the results of the Benchmark, we analyse where our code takes the most time and what can be improved. We have the following Flame Graph. \n",
    "\n",
    "\n",
    "1. Clearly, the Red-Black tree data-structure is the bottle-neck\n",
    "2. The implementation for `erase()` relies on the speed of `find()` which is considerably slow due to multiple indirections in our code, and the call-stack growing. Inlining the method could help improve the performance.\n",
    "3. This is automatically done at a sufficiently high level of Optimizations (-O3) and makes our implementation quite fast but can not be recorded by the profiler.\n",
    "\n",
    "\n",
    "![flame-graph](plots/flame-graph.png)"
   ]
  }
 ],
 "metadata": {
  "interpreter": {
   "hash": "e46765de5d9b522974d641c477fe7ca7a6f9b1c0e325750c4685c0885072c3ae"
  },
  "kernelspec": {
   "display_name": "Python 3 (ipykernel)",
   "language": "python",
   "name": "python3"
  },
  "language_info": {
   "codemirror_mode": {
    "name": "ipython",
    "version": 3
   },
   "file_extension": ".py",
   "mimetype": "text/x-python",
   "name": "python",
   "nbconvert_exporter": "python",
   "pygments_lexer": "ipython3",
   "version": "3.9.7"
  }
 },
 "nbformat": 4,
 "nbformat_minor": 2
}
